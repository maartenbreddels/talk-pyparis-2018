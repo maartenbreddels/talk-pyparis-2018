{
 "cells": [
  {
   "cell_type": "code",
   "execution_count": null,
   "metadata": {},
   "outputs": [],
   "source": [
    "# lets pretend all is fine ;-)\n",
    "import warnings; warnings.simplefilter('ignore')\n",
    "import logging\n",
    "from IPython.display import clear_output\n",
    "import ipyvolume as ipv\n",
    "import numpy as np\n",
    "from sidecar import Sidecar\n",
    "logging.disable(logging.CRITICAL)\n",
    "sidecar = Sidecar(title='ipyvolume')"
   ]
  },
  {
   "cell_type": "markdown",
   "metadata": {
    "slideshow": {
     "slide_type": "slide"
    }
   },
   "source": [
    "# ipyvolume: Interactive 3d Visualization in Jupyter\n",
    " * PyParis - 2018\n",
    " * Maarten Breddels (freelance/independent)\n",
    "   * twitter @maartenbreddels\n",
    "   * https://linkedin.com/in/maartenbreddels\n",
    " * https://github.com/maartenbreddels/ipyvolume/\n",
    " * `$ pip install ipyvolume`\n",
    " * `$ conda install -c conda-forge ipyvolume` \n",
    " "
   ]
  },
  {
   "cell_type": "markdown",
   "metadata": {},
   "source": [
    "# Simple expected API\n",
    "ala matplotlib/mayavi"
   ]
  },
  {
   "cell_type": "code",
   "execution_count": null,
   "metadata": {
    "slideshow": {
     "slide_type": "fragment"
    }
   },
   "outputs": [],
   "source": [
    "N = 1000\n",
    "x, y, z = np.random.normal(0, 1, (3, N))"
   ]
  },
  {
   "cell_type": "code",
   "execution_count": null,
   "metadata": {
    "slideshow": {
     "slide_type": "fragment"
    }
   },
   "outputs": [],
   "source": [
    "with sidecar:\n",
    "    clear_output()\n",
    "    fig = ipv.figure()\n",
    "    scatter = ipv.scatter(x, y, z, marker='sphere')\n",
    "    ipv.show()"
   ]
  },
  {
   "cell_type": "code",
   "execution_count": null,
   "metadata": {
    "slideshow": {
     "slide_type": "fragment"
    }
   },
   "outputs": [],
   "source": [
    "scatter.geo = 'box'"
   ]
  },
  {
   "cell_type": "code",
   "execution_count": null,
   "metadata": {},
   "outputs": [],
   "source": [
    "scatter.x = x + 2"
   ]
  },
  {
   "cell_type": "code",
   "execution_count": null,
   "metadata": {},
   "outputs": [],
   "source": [
    "ipv.save('example.html')"
   ]
  },
  {
   "cell_type": "markdown",
   "metadata": {
    "slideshow": {
     "slide_type": "slide"
    }
   },
   "source": [
    "# Built on ipywidgets"
   ]
  },
  {
   "cell_type": "code",
   "execution_count": null,
   "metadata": {
    "scrolled": false,
    "slideshow": {
     "slide_type": "-"
    }
   },
   "outputs": [],
   "source": [
    "import ipywidgets as widgets\n",
    "# fig"
   ]
  },
  {
   "cell_type": "code",
   "execution_count": null,
   "metadata": {},
   "outputs": [],
   "source": [
    "scatter.geo = 'diamond'"
   ]
  },
  {
   "cell_type": "code",
   "execution_count": null,
   "metadata": {
    "slideshow": {
     "slide_type": "fragment"
    }
   },
   "outputs": [],
   "source": [
    "w = widgets.ToggleButtons(options=['sphere', 'box', 'diamond', 'circle_2d', 'point_2d', 'arrow'])\n",
    "widgets.link((scatter, 'geo'), (w, 'value'))\n",
    "w"
   ]
  },
  {
   "cell_type": "code",
   "execution_count": null,
   "metadata": {},
   "outputs": [],
   "source": [
    "scatter.size = 10"
   ]
  },
  {
   "cell_type": "code",
   "execution_count": null,
   "metadata": {},
   "outputs": [],
   "source": [
    "slider = widgets.FloatSlider(min=0.0, max=10, step=0.1)\n",
    "widgets.jslink((scatter, 'size'), (slider, 'value'))\n",
    "slider"
   ]
  },
  {
   "cell_type": "markdown",
   "metadata": {
    "slideshow": {
     "slide_type": "slide"
    }
   },
   "source": [
    "# Features\n",
    " * scatter/quiver\n",
    " * quiver\n",
    " * mesh\n",
    " * lines\n",
    " * volumes ('3d imshow')\n",
    " * isosurfaces"
   ]
  },
  {
   "cell_type": "markdown",
   "metadata": {
    "slideshow": {
     "slide_type": "slide"
    }
   },
   "source": [
    "# Quiver plot"
   ]
  },
  {
   "cell_type": "code",
   "execution_count": null,
   "metadata": {},
   "outputs": [],
   "source": [
    "with sidecar:\n",
    "    clear_output()\n",
    "    fig = ipv.figure()\n",
    "    quiver = ipv.quiver(x, y, z, x, y, z, size=4)\n",
    "    ipv.show()"
   ]
  },
  {
   "cell_type": "code",
   "execution_count": null,
   "metadata": {},
   "outputs": [],
   "source": [
    "quiver.vx = -quiver.vx\n",
    "quiver.vy = quiver.vy\n",
    "quiver.vz = -quiver.vz"
   ]
  },
  {
   "cell_type": "code",
   "execution_count": null,
   "metadata": {},
   "outputs": [],
   "source": [
    "quiver.color = 'green'"
   ]
  },
  {
   "cell_type": "code",
   "execution_count": null,
   "metadata": {},
   "outputs": [],
   "source": [
    "cp = widgets.ColorPicker(value='pink')\n",
    "widgets.jsdlink((cp, 'value'), (quiver, 'color'))\n",
    "cp"
   ]
  },
  {
   "cell_type": "code",
   "execution_count": null,
   "metadata": {},
   "outputs": [],
   "source": [
    "quiver.color = np.random.random((N,3))"
   ]
  },
  {
   "cell_type": "code",
   "execution_count": null,
   "metadata": {},
   "outputs": [],
   "source": []
  },
  {
   "cell_type": "markdown",
   "metadata": {
    "slideshow": {
     "slide_type": "slide"
    }
   },
   "source": [
    "# Mesh"
   ]
  },
  {
   "cell_type": "code",
   "execution_count": null,
   "metadata": {
    "slideshow": {
     "slide_type": "fragment"
    }
   },
   "outputs": [],
   "source": [
    "s = 1/2**0.5\n",
    "# 4 vertices for the tetrahedron\n",
    "x = np.array([1.,  -1, 0,  0])\n",
    "y = np.array([0,   0, 1., -1])\n",
    "z = np.array([-s, -s, s,  s])\n",
    "# and 4 surfaces (triangles), where the number refer to the vertex index\n",
    "triangles = [(0, 1, 2), (0, 1, 3), (0, 2, 3), (1,3,2)]"
   ]
  },
  {
   "cell_type": "code",
   "execution_count": null,
   "metadata": {},
   "outputs": [],
   "source": [
    "with sidecar:\n",
    "    clear_output()\n",
    "    ipv.figure()\n",
    "    ipv.plot_trisurf(x, y, z, triangles=triangles, color='orange')\n",
    "    ipv.scatter(x, y, z, marker='sphere', color='blue')\n",
    "    ipv.xyzlim(-2, 2)\n",
    "    ipv.show()\n",
    "    ipv.view(-20, 10)"
   ]
  },
  {
   "cell_type": "code",
   "execution_count": null,
   "metadata": {},
   "outputs": [],
   "source": [
    "a = np.linspace(-5, 5, 30)\n",
    "U, V = np.meshgrid(a, a)\n",
    "\n",
    "X = U\n",
    "Y = V\n",
    "Z = X*Y**2"
   ]
  },
  {
   "cell_type": "code",
   "execution_count": null,
   "metadata": {},
   "outputs": [],
   "source": [
    "with sidecar:\n",
    "    clear_output()\n",
    "    ipv.figure()\n",
    "    mesh = ipv.plot_surface(X, Z, Y, color=\"orange\")\n",
    "    ipv.show()\n",
    "    ipv.view(30, 40)"
   ]
  },
  {
   "cell_type": "code",
   "execution_count": null,
   "metadata": {},
   "outputs": [],
   "source": [
    "mesh.y = -mesh.y\n",
    "mesh.x = mesh.x * 1.4\n",
    "mesh.color = 'green'"
   ]
  },
  {
   "cell_type": "code",
   "execution_count": null,
   "metadata": {},
   "outputs": [],
   "source": [
    "mesh.material.wireframe = True"
   ]
  },
  {
   "cell_type": "markdown",
   "metadata": {
    "slideshow": {
     "slide_type": "slide"
    }
   },
   "source": [
    "# Lines"
   ]
  },
  {
   "cell_type": "code",
   "execution_count": null,
   "metadata": {},
   "outputs": [],
   "source": [
    "import ipyvolume as ipv\n",
    "import numpy as np"
   ]
  },
  {
   "cell_type": "code",
   "execution_count": null,
   "metadata": {},
   "outputs": [],
   "source": [
    "with sidecar:\n",
    "    clear_output()\n",
    "    fig = ipv.figure()\n",
    "    u = np.linspace(0, 1, 4000)\n",
    "    r = 1 + 0.3 * np.sin(u*np.pi*4)\n",
    "    x = np.sin(u*2*np.pi*40) * r\n",
    "    y = np.cos(u*2*np.pi*40) * r\n",
    "    z = u\n",
    "    line = ipv.plot(x, y, z)\n",
    "    fig.camera.rotateY(1)\n",
    "    ipv.show()\n",
    "    ipv.view(30, 40)"
   ]
  },
  {
   "cell_type": "code",
   "execution_count": null,
   "metadata": {},
   "outputs": [],
   "source": [
    "r = 1 + 0.3 * np.sin(u*np.pi*3)\n",
    "line.x = np.sin(u*2*np.pi*40) * r\n",
    "line.y = np.cos(u*2*np.pi*40) * r\n",
    "line.color = np.stack([u*0, u, u*0], 1)"
   ]
  },
  {
   "cell_type": "markdown",
   "metadata": {
    "slideshow": {
     "slide_type": "slide"
    }
   },
   "source": [
    "# Volumetric data\n",
    "## Volume rendering"
   ]
  },
  {
   "cell_type": "code",
   "execution_count": null,
   "metadata": {},
   "outputs": [],
   "source": [
    "I = ipv.examples.example_ylm(draw=False, show=False, shape=64)\n",
    "I.shape, type(I)"
   ]
  },
  {
   "cell_type": "code",
   "execution_count": null,
   "metadata": {},
   "outputs": [],
   "source": [
    "with sidecar:\n",
    "    clear_output()\n",
    "    ipv.figure()\n",
    "    ipv.volshow(I)\n",
    "    ipv.show()\n",
    "    ipv.view(30, 40)"
   ]
  },
  {
   "cell_type": "markdown",
   "metadata": {
    "slideshow": {
     "slide_type": "slide"
    }
   },
   "source": [
    "# Isosurfaces"
   ]
  },
  {
   "cell_type": "code",
   "execution_count": null,
   "metadata": {},
   "outputs": [],
   "source": [
    "with sidecar:\n",
    "    clear_output()\n",
    "    fig = ipv.figure()\n",
    "    mesh = ipv.plot_isosurface(I, level=0.08)\n",
    "    ipv.xyzlim(0, 64)\n",
    "    ipv.show()\n",
    "    ipv.view(30, 40)"
   ]
  },
  {
   "cell_type": "markdown",
   "metadata": {
    "slideshow": {
     "slide_type": "slide"
    }
   },
   "source": [
    "# Animations: Performance"
   ]
  },
  {
   "cell_type": "code",
   "execution_count": null,
   "metadata": {},
   "outputs": [],
   "source": [
    "with sidecar:\n",
    "    clear_output()\n",
    "    M = 200_000\n",
    "    xm, ym, zm = np.random.normal(0, 1, (3, M))\n",
    "    fig = ipv.figure()\n",
    "    scatterm = ipv.scatter(xm, ym, zm, marker='diamond')\n",
    "    ipv.show()\n",
    "    ipv.view(30, 40)"
   ]
  },
  {
   "cell_type": "code",
   "execution_count": null,
   "metadata": {},
   "outputs": [],
   "source": [
    "scatterm.size = 0.1"
   ]
  },
  {
   "cell_type": "code",
   "execution_count": null,
   "metadata": {},
   "outputs": [],
   "source": [
    "scatterm.x = xm * 3"
   ]
  },
  {
   "cell_type": "markdown",
   "metadata": {},
   "source": [
    "# Large datasets"
   ]
  },
  {
   "cell_type": "code",
   "execution_count": null,
   "metadata": {
    "slideshow": {
     "slide_type": "slide"
    }
   },
   "outputs": [],
   "source": [
    "# import vaex\n",
    "# ds = vaex.open('/Users/maartenbreddels/datasets/aquarius/Aq-A-2-999-shuffled.hdf5')\n",
    "# ds.set_active_fraction(0.5)\n",
    "# print(f'{len(ds):,}')\n",
    "# ds.plot_widget('x', 'y', 'z', f='log', extent=[[40, 60]]*3, backend='ipyvolume', shape=100)"
   ]
  },
  {
   "cell_type": "markdown",
   "metadata": {
    "slideshow": {
     "slide_type": "slide"
    }
   },
   "source": [
    "# Large data cubes\n",
    "using glue-jupyter (http://glueviz.org/)"
   ]
  },
  {
   "cell_type": "code",
   "execution_count": null,
   "metadata": {},
   "outputs": [],
   "source": [
    "# import glue_jupyter as gj\n",
    "# app = gj.jglue(volume='/Users/maartenbreddels/datasets/glue/Filament_5/Data/GRS/fil5_grs_large.fits')\n",
    "# app.volshow()"
   ]
  },
  {
   "cell_type": "markdown",
   "metadata": {},
   "source": [
    "# Selections / Zoom / Pan"
   ]
  },
  {
   "cell_type": "code",
   "execution_count": null,
   "metadata": {},
   "outputs": [],
   "source": [
    "N = 1000\n",
    "x, y, z = np.random.normal(0, 1, (3, N))"
   ]
  },
  {
   "cell_type": "code",
   "execution_count": null,
   "metadata": {},
   "outputs": [],
   "source": [
    "with sidecar:\n",
    "    clear_output()\n",
    "    fig = ipv.figure()\n",
    "    scatter = ipv.scatter(x, y, z, marker='sphere', color='green')\n",
    "    ipv.selector_default()\n",
    "    ipv.show()\n",
    "    def print_info(*_):\n",
    "        indices = scatter.selected[0]\n",
    "        meanx = np.mean(scatter.x[indices])\n",
    "        print('mean x', meanx)\n",
    "    scatter.observe(print_info, 'selected')"
   ]
  },
  {
   "cell_type": "markdown",
   "metadata": {
    "slideshow": {
     "slide_type": "slide"
    }
   },
   "source": [
    "# Time / Keyframes"
   ]
  },
  {
   "cell_type": "code",
   "execution_count": null,
   "metadata": {},
   "outputs": [],
   "source": [
    "import ipywidgets as widgets\n",
    "data = ipv.datasets.animated_stream.fetch().data[...,::4]\n",
    "x, y, z, vx, vy, vz = data\n",
    "x.shape"
   ]
  },
  {
   "cell_type": "code",
   "execution_count": null,
   "metadata": {},
   "outputs": [],
   "source": [
    "v = np.sqrt(x**2 + y**2 + z**2)\n",
    "v -= v.min(); v /= v.max();\n",
    "import matplotlib.cm as cm\n",
    "colors = np.array([cm.Reds(k) for k in v])"
   ]
  },
  {
   "cell_type": "code",
   "execution_count": null,
   "metadata": {},
   "outputs": [],
   "source": [
    "with sidecar:\n",
    "    clear_output()\n",
    "    fig = ipv.figure()\n",
    "    ipv.style.use('dark')\n",
    "    # use just rgb colors, not rgba\n",
    "    quiver = ipv.quiver(x, y, z, vx, vy, vz, size=5, color=colors[:,:,:3])\n",
    "    ipv.show()\n",
    "    ipv.animation_control(quiver, interval=400)\n",
    "    ipv.view(30, 40)"
   ]
  },
  {
   "cell_type": "code",
   "execution_count": null,
   "metadata": {},
   "outputs": [],
   "source": [
    "ipv.style.use('light')"
   ]
  },
  {
   "cell_type": "code",
   "execution_count": null,
   "metadata": {},
   "outputs": [],
   "source": [
    "w = widgets.ToggleButtons(options=['arrow', 'sphere', 'cat'])\n",
    "widgets.link((quiver, 'geo'), (w, 'value'))\n",
    "w"
   ]
  },
  {
   "cell_type": "code",
   "execution_count": null,
   "metadata": {},
   "outputs": [],
   "source": []
  },
  {
   "cell_type": "markdown",
   "metadata": {},
   "source": [
    "# Multivolume rendering"
   ]
  },
  {
   "cell_type": "code",
   "execution_count": null,
   "metadata": {},
   "outputs": [],
   "source": [
    "import ipyvolume as ipv\n",
    "import numpy as np\n",
    "from matplotlib.pyplot import cm\n",
    "# !wget -q https://www.dropbox.com/s/eqht79b7j4jqit2/petct.npz?dl=1 -O petct.npz"
   ]
  },
  {
   "cell_type": "code",
   "execution_count": null,
   "metadata": {},
   "outputs": [],
   "source": [
    "full_scan = {k: v.swapaxes(0, 1)[::-1] for k,v in np.load('petct.npz').items()}\n",
    "print(list(full_scan.keys()))\n",
    "table_ct = cm.gray_r(np.linspace(0, 1, 255))\n",
    "table_ct[:50, 3] = 0 # make the lower values transparent\n",
    "table_ct[50:, 3] = np.linspace(0, 0.05, table_ct[50:].shape[0])\n",
    "tf_ct = ipv.TransferFunction(rgba=table_ct)"
   ]
  },
  {
   "cell_type": "code",
   "execution_count": null,
   "metadata": {},
   "outputs": [],
   "source": [
    "with sidecar:\n",
    "    clear_output()\n",
    "    fig = ipv.figure()\n",
    "    ct_vol = ipv.volshow(full_scan['ct_data'], \n",
    "                              tf=tf_ct, lighting=False, \n",
    "                              data_min=-1000, data_max=1000)\n",
    "    ipv.show()\n",
    "    ipv.view(30, 10)"
   ]
  },
  {
   "cell_type": "code",
   "execution_count": null,
   "metadata": {},
   "outputs": [],
   "source": [
    "table_pet = cm.hot(np.linspace(0, 1, 255))\n",
    "table_pet[:50, 3] = 0 # make the lower values transparent\n",
    "table_pet[50:, 3] = np.linspace(0, 1, table_pet[50:].shape[0])\n",
    "tf_pet = ipv.TransferFunction(rgba=table_pet)"
   ]
  },
  {
   "cell_type": "code",
   "execution_count": null,
   "metadata": {},
   "outputs": [],
   "source": [
    "pet_vol = ipv.volshow(full_scan['pet_data'], \n",
    "            tf=tf_pet, \n",
    "            data_min=0, \n",
    "            data_max=10)"
   ]
  },
  {
   "cell_type": "code",
   "execution_count": null,
   "metadata": {},
   "outputs": [],
   "source": [
    "pet_vol.rendering_method='MAX_INTENSITY'"
   ]
  },
  {
   "cell_type": "code",
   "execution_count": null,
   "metadata": {},
   "outputs": [],
   "source": [
    "table_lab = np.array([\n",
    "    [0,0,0,0],\n",
    "    [0,1,0,1]\n",
    "])\n",
    "tf_lab = ipv.TransferFunction(rgba=table_lab)\n",
    "lab_vol = ipv.volshow(full_scan['label_data']>0, \n",
    "            tf=tf_lab, \n",
    "            data_min=0, \n",
    "            data_max=1)"
   ]
  },
  {
   "cell_type": "code",
   "execution_count": null,
   "metadata": {},
   "outputs": [],
   "source": []
  },
  {
   "cell_type": "code",
   "execution_count": null,
   "metadata": {},
   "outputs": [],
   "source": []
  },
  {
   "cell_type": "code",
   "execution_count": null,
   "metadata": {},
   "outputs": [],
   "source": []
  },
  {
   "cell_type": "code",
   "execution_count": null,
   "metadata": {},
   "outputs": [],
   "source": []
  },
  {
   "cell_type": "markdown",
   "metadata": {},
   "source": [
    "# WebRTC Fun"
   ]
  },
  {
   "cell_type": "code",
   "execution_count": null,
   "metadata": {},
   "outputs": [],
   "source": [
    "import ipywidgets as widgets\n",
    "import ipywebrtc as webrtc\n",
    "widgets.Widget.close_all()"
   ]
  },
  {
   "cell_type": "code",
   "execution_count": null,
   "metadata": {},
   "outputs": [],
   "source": [
    "video = webrtc.VideoStream.from_file('big-buck-bunny_trailer.webm')\n",
    "video"
   ]
  },
  {
   "cell_type": "code",
   "execution_count": null,
   "metadata": {},
   "outputs": [],
   "source": [
    "camera = webrtc.CameraStream()\n",
    "camera"
   ]
  },
  {
   "cell_type": "code",
   "execution_count": null,
   "metadata": {},
   "outputs": [],
   "source": [
    "fig = ipv.figure(render_continuous=True)\n",
    "back = ipv.plot_plane(\"back\", texture=video)\n",
    "right = ipv.plot_plane(\"right\", texture=camera)\n",
    "ipv.show()"
   ]
  },
  {
   "cell_type": "code",
   "execution_count": null,
   "metadata": {},
   "outputs": [],
   "source": [
    "right.texture = fig"
   ]
  },
  {
   "cell_type": "code",
   "execution_count": null,
   "metadata": {},
   "outputs": [],
   "source": [
    "chatroom = webrtc.chat(room='pyparis2018', stream=fig)"
   ]
  },
  {
   "cell_type": "code",
   "execution_count": null,
   "metadata": {},
   "outputs": [],
   "source": [
    "right.texture = chatroom.streams[1]"
   ]
  },
  {
   "cell_type": "code",
   "execution_count": null,
   "metadata": {},
   "outputs": [],
   "source": [
    "widgets.Widget.close_all()"
   ]
  },
  {
   "cell_type": "code",
   "execution_count": null,
   "metadata": {},
   "outputs": [],
   "source": []
  }
 ],
 "metadata": {
  "kernelspec": {
   "display_name": "Python 3",
   "language": "python",
   "name": "python3"
  },
  "language_info": {
   "codemirror_mode": {
    "name": "ipython",
    "version": 3
   },
   "file_extension": ".py",
   "mimetype": "text/x-python",
   "name": "python",
   "nbconvert_exporter": "python",
   "pygments_lexer": "ipython3",
   "version": "3.6.6"
  },
  "livereveal": {
   "center": false,
   "scroll": true
  }
 },
 "nbformat": 4,
 "nbformat_minor": 2
}
